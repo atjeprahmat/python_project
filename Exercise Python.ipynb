{
 "cells": [
  {
   "cell_type": "code",
   "execution_count": 2,
   "metadata": {},
   "outputs": [
    {
     "name": "stdout",
     "output_type": "stream",
     "text": [
      "Learn Python!\n"
     ]
    }
   ],
   "source": [
    "#Exercise 1\n",
    "#Using the print() function, print to the console: 'Learn Python!'\n",
    "\n",
    "print('Learn Python!')"
   ]
  },
  {
   "cell_type": "code",
   "execution_count": 3,
   "metadata": {},
   "outputs": [
    {
     "name": "stdout",
     "output_type": "stream",
     "text": [
      "I am 20 years old.\n",
      "I am 20 years old.\n"
     ]
    }
   ],
   "source": [
    "#Exercise 2\n",
    "#Assign to the variable age number 20. Using the age variable and the print() function print to the console the following text:\n",
    "#I am 20 years old.\n",
    "\n",
    "print(\"I am 20 years old.\")\n",
    "\n",
    "age = 20\n",
    "print(f'I am {age} years old.')"
   ]
  },
  {
   "cell_type": "code",
   "execution_count": 1,
   "metadata": {},
   "outputs": [
    {
     "name": "stdout",
     "output_type": "stream",
     "text": [
      "I am learning {x} version {y}\n"
     ]
    }
   ],
   "source": [
    "#Exercise 3\n",
    "#Create two variables (you can freely choose the names) and assign to them following values:\n",
    "\n",
    "#'Python'\n",
    "\n",
    "#'3.8'\n",
    "\n",
    "#Using these variables and the print() function, print to the console the following text:\n",
    "\n",
    "x = 'Python'\n",
    "y = 3.8\n",
    "\n",
    "print(f'I am learning {x} version {y}')"
   ]
  },
  {
   "cell_type": "code",
   "execution_count": 5,
   "metadata": {},
   "outputs": [
    {
     "name": "stdout",
     "output_type": "stream",
     "text": [
      "This costs 199.99\n"
     ]
    }
   ],
   "source": [
    "#Exercise 4\n",
    "#Assign 199.99 to the price variable and check the solution.\n",
    "#Expected result:\n",
    "#This costs 199.99\n",
    "\n",
    "price = 199.99\n",
    "print('This costs', price)"
   ]
  },
  {
   "cell_type": "code",
   "execution_count": 6,
   "metadata": {},
   "outputs": [
    {
     "name": "stdout",
     "output_type": "stream",
     "text": [
      "This costs 69.99\n"
     ]
    }
   ],
   "source": [
    "#Exercise 5\n",
    "#Assign 69.99 to the price variable and check the solution.\n",
    "#Expected result:\n",
    "#This costs 69.99\n",
    "\n",
    "price = 69.99\n",
    "print(f'This costs {price}')"
   ]
  },
  {
   "cell_type": "code",
   "execution_count": 1,
   "metadata": {},
   "outputs": [
    {
     "name": "stdout",
     "output_type": "stream",
     "text": [
      "Price: $34.99. Weight: 20 lbs.\n"
     ]
    }
   ],
   "source": [
    "#Exercise 6\n",
    "#Assign two variables that store the following values:\n",
    "\n",
    "#$ 34.99 - product price (float)\n",
    "\n",
    "#20 lbs - product weight (int)\n",
    "\n",
    "price = 34.99\n",
    "weight = 20\n",
    " \n",
    "print(f'Price: ${price}. Weight: {weight} lbs.')"
   ]
  },
  {
   "cell_type": "code",
   "execution_count": null,
   "metadata": {},
   "outputs": [],
   "source": [
    "#Exercise 7\n",
    "#Below is an approximation of pi:\n",
    "\n",
    "#pi = 3.1415926535\n",
    "\n",
    "#Using f-string formatting, print the approximation of pi to two decimal places as shown below.\n",
    "#Expected result:\n",
    "#Pi: 3.14"
   ]
  }
 ],
 "metadata": {
  "kernelspec": {
   "display_name": "Python 3.10.5 64-bit",
   "language": "python",
   "name": "python3"
  },
  "language_info": {
   "codemirror_mode": {
    "name": "ipython",
    "version": 3
   },
   "file_extension": ".py",
   "mimetype": "text/x-python",
   "name": "python",
   "nbconvert_exporter": "python",
   "pygments_lexer": "ipython3",
   "version": "3.10.5"
  },
  "orig_nbformat": 4,
  "vscode": {
   "interpreter": {
    "hash": "70d4673e020103ab38cfada2c241ed2a6b25322d3986157bf43f1c1b2d60e90f"
   }
  }
 },
 "nbformat": 4,
 "nbformat_minor": 2
}
